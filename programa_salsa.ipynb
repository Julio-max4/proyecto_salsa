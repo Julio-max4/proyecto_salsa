{
 "cells": [
  {
   "cell_type": "code",
   "execution_count": null,
   "id": "c3a2ea19",
   "metadata": {},
   "outputs": [
    {
     "name": "stdout",
     "output_type": "stream",
     "text": [
      "pygame 2.6.1 (SDL 2.28.4, Python 3.11.11)\n",
      "Hello from the pygame community. https://www.pygame.org/contribute.html\n"
     ]
    }
   ],
   "source": []
  },
  {
   "cell_type": "code",
   "execution_count": null,
   "id": "3e2718b1",
   "metadata": {},
   "outputs": [],
   "source": [
    "# Replace with your MP3 file path\n",
    "# Reproducir una cancion\n",
    "\n",
    "mp3_file = \"C:/Users/Prueba/Documents/Chat_gpt/musica/Again.mp3\"\n",
    "\n",
    "# Initialize the mixer\n",
    "pygame.mixer.init()\n",
    "# Load and play the MP3\n",
    "pygame.mixer.music.load(mp3_file)\n",
    "pygame.mixer.music.play()\n",
    "pygame.mixer.music.get_busy()  \n",
    "pygame.mixer.music.stop()\n",
    "\n",
    "# Abriendo reproductor\n",
    "import os\n",
    "os.startfile(mp3_file)\n"
   ]
  },
  {
   "cell_type": "code",
   "execution_count": null,
   "id": "790ec6fc",
   "metadata": {},
   "outputs": [],
   "source": [
    "\n"
   ]
  }
 ],
 "metadata": {
  "kernelspec": {
   "display_name": "env_salsa",
   "language": "python",
   "name": "python3"
  },
  "language_info": {
   "codemirror_mode": {
    "name": "ipython",
    "version": 3
   },
   "file_extension": ".py",
   "mimetype": "text/x-python",
   "name": "python",
   "nbconvert_exporter": "python",
   "pygments_lexer": "ipython3",
   "version": "3.11.11"
  }
 },
 "nbformat": 4,
 "nbformat_minor": 5
}
